{
 "cells": [
  {
   "cell_type": "markdown",
   "id": "187e41ba",
   "metadata": {},
   "source": [
    "# Imports"
   ]
  },
  {
   "cell_type": "code",
   "execution_count": 1,
   "id": "faaba53a-0f28-40ad-93b5-0c968ec93d9f",
   "metadata": {},
   "outputs": [
    {
     "name": "stdout",
     "output_type": "stream",
     "text": [
      "tf.__version__: 2.10.1\n",
      "tf.config.list_physical_devices(\"GPU\"):\n",
      "[PhysicalDevice(name='/physical_device:GPU:0', device_type='GPU')]\n"
     ]
    }
   ],
   "source": [
    "import tensorflow as tf\n",
    "print(f'tf.__version__: {tf.__version__}\\n'\n",
    "      f'tf.config.list_physical_devices(\"GPU\"):\\n'\n",
    "      f'{tf.config.list_physical_devices(\"GPU\")}', sep='')\n",
    "from utils import load_and_preprocess_data\n",
    "from vaec import VAEC\n",
    "%load_ext tensorboard"
   ]
  },
  {
   "cell_type": "markdown",
   "id": "e31fcb3c",
   "metadata": {},
   "source": [
    "# Downloading and preprocessing data"
   ]
  },
  {
   "cell_type": "code",
   "execution_count": 2,
   "id": "98cf6bc0-0008-444a-b633-fea024eb2e3c",
   "metadata": {},
   "outputs": [
    {
     "name": "stdout",
     "output_type": "stream",
     "text": [
      "Data is loaded and preprocessed.\n",
      "data_package.data.dtype: float64\n",
      "data_package.data.shape: (569, 30)\n",
      "data_package.target.dtype: int32\n",
      "data_package.target.shape: (569,)\n",
      "x_train.shape: (398, 30), y_train.shape: (398, 1)\n",
      "x_test.shape: (171, 30), y_test.shape: (171, 1)\n"
     ]
    }
   ],
   "source": [
    "x_train, y_train, x_test, y_test, mean_x_train, dev_x_train = \\\n",
    "    load_and_preprocess_data(split_ratio=0.7)"
   ]
  },
  {
   "cell_type": "markdown",
   "id": "5cc33cb9",
   "metadata": {},
   "source": [
    "# Configuration for the network parts\n",
    "- global_input_dim: For Wisconsin Breast Cancer Dataset it is 30.\n",
    "- encoder_layers: List of neuron numbers in encoder MLP layers.\n",
    "- decoder_layers: List of neuron numbers in decoder MLP layers.\n",
    "- classifier_layers: List of neuron numbers in classifier_head MLP layers.\n",
    "- latent_dim: Dimension of representation in autoencoder neck.\n",
    "- activation: Any Keras built-in activation is usable."
   ]
  },
  {
   "cell_type": "code",
   "execution_count": 3,
   "id": "aacb6ba7-fbfe-421f-8a1b-069c28dd6bb6",
   "metadata": {},
   "outputs": [],
   "source": [
    "config= {\n",
    "    'global_input_dim' : 30,\n",
    "    'encoder_layers' : [16, 8],\n",
    "    'decoder_layers' : [8, 16],\n",
    "    'latent_dim' : 8,\n",
    "    'classifier_layers' : [8, 8, 4],\n",
    "    'activation': 'elu',\n",
    "    }"
   ]
  },
  {
   "cell_type": "markdown",
   "id": "19ec1732",
   "metadata": {},
   "source": [
    "# Test case #1\n",
    "\n",
    "A test case is created by instantiating VAEC with log_mark='LD08_fit_all_parts'. Then, training with fit_all_parts() member function is performed. LD08 stands for latent_dim=8."
   ]
  },
  {
   "cell_type": "code",
   "execution_count": 4,
   "id": "b4d80152",
   "metadata": {
    "collapsed": true
   },
   "outputs": [
    {
     "name": "stdout",
     "output_type": "stream",
     "text": [
      "Epoch 1/10\n",
      "4/4 [==============================] - 2s 128ms/step - loss: 2.5511 - recon_loss: 1.2732 - kl_loss: 0.4667 - pred_loss: 0.6491 - accuracy: 0.5771 - val_loss: 2.5246 - val_recon_loss: 1.2452 - val_kl_loss: 0.4793 - val_pred_loss: 0.8001 - val_accuracy: 0.5380\n",
      "Epoch 2/10\n",
      "4/4 [==============================] - 0s 31ms/step - loss: 2.2673 - recon_loss: 1.0941 - kl_loss: 0.3234 - pred_loss: 0.5324 - accuracy: 0.5478 - val_loss: 2.3620 - val_recon_loss: 1.1829 - val_kl_loss: 0.3948 - val_pred_loss: 0.7843 - val_accuracy: 0.5088\n",
      "Epoch 3/10\n",
      "4/4 [==============================] - 0s 28ms/step - loss: 2.3092 - recon_loss: 1.1940 - kl_loss: 0.2708 - pred_loss: 0.8344 - accuracy: 0.5921 - val_loss: 2.1140 - val_recon_loss: 1.0310 - val_kl_loss: 0.3352 - val_pred_loss: 0.7478 - val_accuracy: 0.5848\n",
      "Epoch 4/10\n",
      "4/4 [==============================] - 0s 27ms/step - loss: 1.9401 - recon_loss: 0.7359 - kl_loss: 0.1674 - pred_loss: 0.6447 - accuracy: 0.5833 - val_loss: 2.0608 - val_recon_loss: 1.0670 - val_kl_loss: 0.2927 - val_pred_loss: 0.7011 - val_accuracy: 0.5673\n",
      "Epoch 5/10\n",
      "4/4 [==============================] - 0s 23ms/step - loss: 1.9686 - recon_loss: 0.9147 - kl_loss: 0.2380 - pred_loss: 0.6084 - accuracy: 0.6252 - val_loss: 1.9793 - val_recon_loss: 1.0535 - val_kl_loss: 0.2609 - val_pred_loss: 0.6649 - val_accuracy: 0.6199\n",
      "Epoch 6/10\n",
      "4/4 [==============================] - 0s 27ms/step - loss: 2.0086 - recon_loss: 1.1086 - kl_loss: 0.2745 - pred_loss: 0.6367 - accuracy: 0.6716 - val_loss: 1.9088 - val_recon_loss: 0.9654 - val_kl_loss: 0.2356 - val_pred_loss: 0.7078 - val_accuracy: 0.6491\n",
      "Epoch 7/10\n",
      "4/4 [==============================] - 0s 27ms/step - loss: 1.9794 - recon_loss: 1.0802 - kl_loss: 0.1955 - pred_loss: 0.7420 - accuracy: 0.7125 - val_loss: 1.7626 - val_recon_loss: 0.9494 - val_kl_loss: 0.2167 - val_pred_loss: 0.5965 - val_accuracy: 0.7251\n",
      "Epoch 8/10\n",
      "4/4 [==============================] - 0s 29ms/step - loss: 2.0560 - recon_loss: 1.4128 - kl_loss: 0.2178 - pred_loss: 0.6664 - accuracy: 0.6545 - val_loss: 1.7992 - val_recon_loss: 0.9348 - val_kl_loss: 0.2032 - val_pred_loss: 0.6612 - val_accuracy: 0.6491\n",
      "Epoch 9/10\n",
      "4/4 [==============================] - 0s 28ms/step - loss: 1.8806 - recon_loss: 1.0010 - kl_loss: 0.1848 - pred_loss: 0.7047 - accuracy: 0.6552 - val_loss: 1.7494 - val_recon_loss: 0.9096 - val_kl_loss: 0.1939 - val_pred_loss: 0.6459 - val_accuracy: 0.6901\n",
      "Epoch 10/10\n",
      "4/4 [==============================] - 0s 27ms/step - loss: 1.6947 - recon_loss: 0.7891 - kl_loss: 0.1465 - pred_loss: 0.5553 - accuracy: 0.7197 - val_loss: 1.7210 - val_recon_loss: 0.9169 - val_kl_loss: 0.1873 - val_pred_loss: 0.6168 - val_accuracy: 0.7251\n"
     ]
    }
   ],
   "source": [
    "vaec = VAEC(config=config, \n",
    "            x_train=x_train, y_train=y_train, x_test=x_test, y_test=y_test, \n",
    "            log_mark='LD08_fit_all_parts', summary=False)\n",
    "\n",
    "vaec.fit_all_parts(epochs=2000)"
   ]
  },
  {
   "cell_type": "markdown",
   "id": "9a3f3c10",
   "metadata": {},
   "source": [
    "# Test case #2\n",
    "\n",
    "Next test case is created by instantiating VAEC with log_mark='LD08_fit_ae_then_cl_head'. Then, first just encoder and decoder was trained as autoencoder, second the classifier_head is trained."
   ]
  },
  {
   "cell_type": "code",
   "execution_count": 5,
   "id": "e54dcc72",
   "metadata": {
    "collapsed": true
   },
   "outputs": [
    {
     "name": "stdout",
     "output_type": "stream",
     "text": [
      "Epoch 1/10\n",
      "4/4 [==============================] - 1s 96ms/step - loss: 2.0911 - recon_loss: 1.2409 - kl_loss: 0.5913 - pred_loss: 0.7088 - accuracy: 0.3893 - val_loss: 1.6298 - val_recon_loss: 1.1633 - val_kl_loss: 0.4665 - val_pred_loss: 0.9609 - val_accuracy: 0.3860\n",
      "Epoch 2/10\n",
      "4/4 [==============================] - 0s 28ms/step - loss: 2.0002 - recon_loss: 1.6811 - kl_loss: 0.4614 - pred_loss: 1.1028 - accuracy: 0.3877 - val_loss: 1.4587 - val_recon_loss: 1.0723 - val_kl_loss: 0.3865 - val_pred_loss: 0.9402 - val_accuracy: 0.3918\n",
      "Epoch 3/10\n",
      "4/4 [==============================] - 0s 22ms/step - loss: 1.7135 - recon_loss: 1.2308 - kl_loss: 0.4485 - pred_loss: 0.9328 - accuracy: 0.3894 - val_loss: 1.3654 - val_recon_loss: 1.0401 - val_kl_loss: 0.3254 - val_pred_loss: 1.0491 - val_accuracy: 0.4269\n",
      "Epoch 4/10\n",
      "4/4 [==============================] - 0s 27ms/step - loss: 1.3706 - recon_loss: 0.8100 - kl_loss: 0.1951 - pred_loss: 0.9539 - accuracy: 0.4273 - val_loss: 1.2805 - val_recon_loss: 1.0021 - val_kl_loss: 0.2784 - val_pred_loss: 1.0208 - val_accuracy: 0.4211\n",
      "Epoch 5/10\n",
      "4/4 [==============================] - 0s 28ms/step - loss: 1.4565 - recon_loss: 1.1175 - kl_loss: 0.2735 - pred_loss: 0.7594 - accuracy: 0.4104 - val_loss: 1.2433 - val_recon_loss: 1.0011 - val_kl_loss: 0.2421 - val_pred_loss: 0.9160 - val_accuracy: 0.4444\n",
      "Epoch 6/10\n",
      "4/4 [==============================] - 0s 31ms/step - loss: 1.2658 - recon_loss: 0.8265 - kl_loss: 0.1895 - pred_loss: 0.9656 - accuracy: 0.3678 - val_loss: 1.2012 - val_recon_loss: 0.9866 - val_kl_loss: 0.2146 - val_pred_loss: 0.8924 - val_accuracy: 0.4620\n",
      "Epoch 7/10\n",
      "4/4 [==============================] - 0s 23ms/step - loss: 1.1910 - recon_loss: 0.6821 - kl_loss: 0.2363 - pred_loss: 0.7658 - accuracy: 0.4593 - val_loss: 1.1515 - val_recon_loss: 0.9585 - val_kl_loss: 0.1930 - val_pred_loss: 0.8202 - val_accuracy: 0.4211\n",
      "Epoch 8/10\n",
      "4/4 [==============================] - 0s 21ms/step - loss: 1.7956 - recon_loss: 2.0714 - kl_loss: 0.5038 - pred_loss: 0.7896 - accuracy: 0.4652 - val_loss: 1.0960 - val_recon_loss: 0.9212 - val_kl_loss: 0.1748 - val_pred_loss: 0.8572 - val_accuracy: 0.4269\n",
      "Epoch 9/10\n",
      "4/4 [==============================] - 0s 24ms/step - loss: 1.4020 - recon_loss: 1.3390 - kl_loss: 0.2647 - pred_loss: 0.7791 - accuracy: 0.4283 - val_loss: 1.0667 - val_recon_loss: 0.9070 - val_kl_loss: 0.1597 - val_pred_loss: 0.7793 - val_accuracy: 0.5205\n",
      "Epoch 10/10\n",
      "4/4 [==============================] - 0s 28ms/step - loss: 1.0845 - recon_loss: 0.7066 - kl_loss: 0.1158 - pred_loss: 0.7795 - accuracy: 0.4615 - val_loss: 1.0343 - val_recon_loss: 0.8874 - val_kl_loss: 0.1469 - val_pred_loss: 0.8186 - val_accuracy: 0.4971\n",
      "Epoch 11/20\n",
      "4/4 [==============================] - 1s 94ms/step - loss: 0.8264 - recon_loss: 0.8375 - kl_loss: 0.1114 - pred_loss: 0.8078 - accuracy: 0.4204 - val_loss: 0.9035 - val_recon_loss: 0.9605 - val_kl_loss: 0.1469 - val_pred_loss: 0.9035 - val_accuracy: 0.4678\n",
      "Epoch 12/20\n",
      "4/4 [==============================] - 0s 27ms/step - loss: 0.7497 - recon_loss: 1.0996 - kl_loss: 0.1014 - pred_loss: 0.6895 - accuracy: 0.4674 - val_loss: 0.7825 - val_recon_loss: 0.9585 - val_kl_loss: 0.1469 - val_pred_loss: 0.7825 - val_accuracy: 0.4854\n",
      "Epoch 13/20\n",
      "4/4 [==============================] - 0s 27ms/step - loss: 0.8616 - recon_loss: 1.0556 - kl_loss: 0.1611 - pred_loss: 0.9673 - accuracy: 0.4842 - val_loss: 0.8308 - val_recon_loss: 0.9403 - val_kl_loss: 0.1469 - val_pred_loss: 0.8308 - val_accuracy: 0.5088\n",
      "Epoch 14/20\n",
      "4/4 [==============================] - 0s 19ms/step - loss: 0.7742 - recon_loss: 1.1360 - kl_loss: 0.1981 - pred_loss: 0.7663 - accuracy: 0.4582 - val_loss: 0.8004 - val_recon_loss: 0.9422 - val_kl_loss: 0.1469 - val_pred_loss: 0.8004 - val_accuracy: 0.5556\n",
      "Epoch 15/20\n",
      "4/4 [==============================] - 0s 20ms/step - loss: 0.7193 - recon_loss: 0.9190 - kl_loss: 0.1150 - pred_loss: 0.6769 - accuracy: 0.4873 - val_loss: 0.7704 - val_recon_loss: 0.9363 - val_kl_loss: 0.1469 - val_pred_loss: 0.7704 - val_accuracy: 0.4678\n",
      "Epoch 16/20\n",
      "4/4 [==============================] - 0s 24ms/step - loss: 0.7242 - recon_loss: 0.7839 - kl_loss: 0.1162 - pred_loss: 0.7089 - accuracy: 0.5003 - val_loss: 0.7447 - val_recon_loss: 0.9137 - val_kl_loss: 0.1469 - val_pred_loss: 0.7447 - val_accuracy: 0.4971\n",
      "Epoch 17/20\n",
      "4/4 [==============================] - 0s 20ms/step - loss: 0.6897 - recon_loss: 0.8327 - kl_loss: 0.0963 - pred_loss: 0.6506 - accuracy: 0.5267 - val_loss: 0.7068 - val_recon_loss: 0.9468 - val_kl_loss: 0.1469 - val_pred_loss: 0.7068 - val_accuracy: 0.5614\n",
      "Epoch 18/20\n",
      "4/4 [==============================] - 0s 21ms/step - loss: 0.7123 - recon_loss: 0.8003 - kl_loss: 0.1616 - pred_loss: 0.7379 - accuracy: 0.5370 - val_loss: 0.6864 - val_recon_loss: 0.9126 - val_kl_loss: 0.1469 - val_pred_loss: 0.6864 - val_accuracy: 0.5789\n",
      "Epoch 19/20\n",
      "4/4 [==============================] - 0s 21ms/step - loss: 0.6854 - recon_loss: 1.5358 - kl_loss: 0.5237 - pred_loss: 0.6971 - accuracy: 0.5953 - val_loss: 0.6734 - val_recon_loss: 0.9290 - val_kl_loss: 0.1469 - val_pred_loss: 0.6734 - val_accuracy: 0.5673\n",
      "Epoch 20/20\n",
      "4/4 [==============================] - 0s 21ms/step - loss: 0.6765 - recon_loss: 0.8809 - kl_loss: 0.1614 - pred_loss: 0.6739 - accuracy: 0.5703 - val_loss: 0.6467 - val_recon_loss: 0.9202 - val_kl_loss: 0.1469 - val_pred_loss: 0.6467 - val_accuracy: 0.5556\n"
     ]
    }
   ],
   "source": [
    "vaec = VAEC(config=config, \n",
    "            x_train=x_train, y_train=y_train, x_test=x_test, y_test=y_test, \n",
    "            log_mark='LD08_fit_ae_then_cl_head', summary=False)\n",
    "\n",
    "vaec.fit_autoencoder(epochs=2000)\n",
    "vaec.fit_classifier_head(epochs=2000)"
   ]
  },
  {
   "cell_type": "markdown",
   "id": "16b43fd7",
   "metadata": {},
   "source": [
    "# Test case #3\n",
    "\n",
    "It is an extension of previous case, the difference is that now first pre-training is performed with fit_all_parts() member function. Then ancoder and decoder is trained with fit_autoencoder(), finally classifier head is traind separately with fit_classifier_head()."
   ]
  },
  {
   "cell_type": "code",
   "execution_count": 6,
   "id": "57ad1a0b",
   "metadata": {
    "collapsed": true
   },
   "outputs": [
    {
     "name": "stdout",
     "output_type": "stream",
     "text": [
      "Epoch 1/10\n",
      "4/4 [==============================] - 1s 97ms/step - loss: 2.2832 - recon_loss: 1.0059 - kl_loss: 0.2891 - pred_loss: 0.7004 - accuracy: 0.5420 - val_loss: 2.1032 - val_recon_loss: 1.0993 - val_kl_loss: 0.3466 - val_pred_loss: 0.6573 - val_accuracy: 0.5789\n",
      "Epoch 2/10\n",
      "4/4 [==============================] - 0s 26ms/step - loss: 2.0835 - recon_loss: 1.1003 - kl_loss: 0.2622 - pred_loss: 0.4635 - accuracy: 0.6269 - val_loss: 2.0864 - val_recon_loss: 1.1585 - val_kl_loss: 0.3026 - val_pred_loss: 0.6253 - val_accuracy: 0.6608\n",
      "Epoch 3/10\n",
      "4/4 [==============================] - 0s 24ms/step - loss: 2.1879 - recon_loss: 1.2197 - kl_loss: 0.3569 - pred_loss: 0.6338 - accuracy: 0.6374 - val_loss: 1.9525 - val_recon_loss: 1.0843 - val_kl_loss: 0.2694 - val_pred_loss: 0.5989 - val_accuracy: 0.6433\n",
      "Epoch 4/10\n",
      "4/4 [==============================] - 0s 26ms/step - loss: 1.9191 - recon_loss: 0.9672 - kl_loss: 0.1853 - pred_loss: 0.5389 - accuracy: 0.7191 - val_loss: 1.8572 - val_recon_loss: 1.0665 - val_kl_loss: 0.2449 - val_pred_loss: 0.5458 - val_accuracy: 0.6959\n",
      "Epoch 5/10\n",
      "4/4 [==============================] - 0s 24ms/step - loss: 2.0190 - recon_loss: 1.4088 - kl_loss: 0.2409 - pred_loss: 0.4286 - accuracy: 0.7348 - val_loss: 1.6771 - val_recon_loss: 0.9879 - val_kl_loss: 0.2259 - val_pred_loss: 0.4633 - val_accuracy: 0.7544\n",
      "Epoch 6/10\n",
      "4/4 [==============================] - 0s 28ms/step - loss: 2.0528 - recon_loss: 1.3277 - kl_loss: 0.2353 - pred_loss: 0.7091 - accuracy: 0.7422 - val_loss: 1.6879 - val_recon_loss: 0.9913 - val_kl_loss: 0.2088 - val_pred_loss: 0.4878 - val_accuracy: 0.7251\n",
      "Epoch 7/10\n",
      "4/4 [==============================] - 0s 28ms/step - loss: 1.8780 - recon_loss: 1.1887 - kl_loss: 0.2110 - pred_loss: 0.4286 - accuracy: 0.7312 - val_loss: 1.6438 - val_recon_loss: 0.9732 - val_kl_loss: 0.1947 - val_pred_loss: 0.4759 - val_accuracy: 0.7018\n",
      "Epoch 8/10\n",
      "4/4 [==============================] - 0s 31ms/step - loss: 1.9927 - recon_loss: 1.3563 - kl_loss: 0.2286 - pred_loss: 0.6068 - accuracy: 0.7379 - val_loss: 1.6357 - val_recon_loss: 0.9590 - val_kl_loss: 0.1831 - val_pred_loss: 0.4935 - val_accuracy: 0.7310\n",
      "Epoch 9/10\n",
      "4/4 [==============================] - 0s 26ms/step - loss: 1.6409 - recon_loss: 0.8011 - kl_loss: 0.1461 - pred_loss: 0.4278 - accuracy: 0.7723 - val_loss: 1.5800 - val_recon_loss: 0.9468 - val_kl_loss: 0.1736 - val_pred_loss: 0.4596 - val_accuracy: 0.7368\n",
      "Epoch 10/10\n",
      "4/4 [==============================] - 0s 27ms/step - loss: 1.7751 - recon_loss: 1.1371 - kl_loss: 0.1401 - pred_loss: 0.5628 - accuracy: 0.7825 - val_loss: 1.6309 - val_recon_loss: 0.9526 - val_kl_loss: 0.1657 - val_pred_loss: 0.5127 - val_accuracy: 0.7427\n",
      "Epoch 11/20\n",
      "4/4 [==============================] - 1s 91ms/step - loss: 1.0115 - recon_loss: 0.5786 - kl_loss: 0.0986 - pred_loss: 0.5182 - accuracy: 0.7606 - val_loss: 1.0479 - val_recon_loss: 0.9213 - val_kl_loss: 0.1266 - val_pred_loss: 0.5087 - val_accuracy: 0.6901\n",
      "Epoch 12/20\n",
      "4/4 [==============================] - 0s 30ms/step - loss: 1.1887 - recon_loss: 1.1117 - kl_loss: 0.1030 - pred_loss: 0.5562 - accuracy: 0.7554 - val_loss: 1.0057 - val_recon_loss: 0.9032 - val_kl_loss: 0.1026 - val_pred_loss: 0.5548 - val_accuracy: 0.6199\n",
      "Epoch 13/20\n",
      "4/4 [==============================] - 0s 22ms/step - loss: 1.2619 - recon_loss: 1.3401 - kl_loss: 0.1057 - pred_loss: 0.6938 - accuracy: 0.6706 - val_loss: 0.9785 - val_recon_loss: 0.8900 - val_kl_loss: 0.0885 - val_pred_loss: 0.6445 - val_accuracy: 0.5965\n",
      "Epoch 14/20\n",
      "4/4 [==============================] - 0s 27ms/step - loss: 1.0380 - recon_loss: 0.8150 - kl_loss: 0.0737 - pred_loss: 0.4255 - accuracy: 0.6683 - val_loss: 0.9744 - val_recon_loss: 0.8945 - val_kl_loss: 0.0799 - val_pred_loss: 0.5944 - val_accuracy: 0.6199\n",
      "Epoch 15/20\n",
      "4/4 [==============================] - 0s 28ms/step - loss: 1.1238 - recon_loss: 1.0519 - kl_loss: 0.0816 - pred_loss: 0.5843 - accuracy: 0.6237 - val_loss: 0.9773 - val_recon_loss: 0.9037 - val_kl_loss: 0.0736 - val_pred_loss: 0.5499 - val_accuracy: 0.6140\n",
      "Epoch 16/20\n",
      "4/4 [==============================] - 0s 22ms/step - loss: 1.2414 - recon_loss: 1.3854 - kl_loss: 0.0874 - pred_loss: 0.6105 - accuracy: 0.6378 - val_loss: 0.9475 - val_recon_loss: 0.8780 - val_kl_loss: 0.0694 - val_pred_loss: 0.5551 - val_accuracy: 0.6608\n",
      "Epoch 17/20\n",
      "4/4 [==============================] - 0s 26ms/step - loss: 1.0509 - recon_loss: 0.9528 - kl_loss: 0.0589 - pred_loss: 0.6117 - accuracy: 0.6903 - val_loss: 0.9640 - val_recon_loss: 0.8967 - val_kl_loss: 0.0673 - val_pred_loss: 0.5217 - val_accuracy: 0.6199\n",
      "Epoch 18/20\n",
      "4/4 [==============================] - 0s 22ms/step - loss: 1.0318 - recon_loss: 0.9011 - kl_loss: 0.0618 - pred_loss: 0.5616 - accuracy: 0.6384 - val_loss: 0.9574 - val_recon_loss: 0.8906 - val_kl_loss: 0.0668 - val_pred_loss: 0.6485 - val_accuracy: 0.6199\n",
      "Epoch 19/20\n",
      "4/4 [==============================] - 0s 28ms/step - loss: 1.1040 - recon_loss: 1.0727 - kl_loss: 0.0830 - pred_loss: 0.5189 - accuracy: 0.6338 - val_loss: 0.9251 - val_recon_loss: 0.8578 - val_kl_loss: 0.0672 - val_pred_loss: 0.5670 - val_accuracy: 0.6433\n",
      "Epoch 20/20\n",
      "4/4 [==============================] - 0s 25ms/step - loss: 0.9456 - recon_loss: 0.7229 - kl_loss: 0.0668 - pred_loss: 0.7461 - accuracy: 0.6447 - val_loss: 0.9162 - val_recon_loss: 0.8478 - val_kl_loss: 0.0684 - val_pred_loss: 0.5477 - val_accuracy: 0.6023\n",
      "Epoch 21/30\n",
      "4/4 [==============================] - 1s 92ms/step - loss: 0.5676 - recon_loss: 0.8399 - kl_loss: 0.0681 - pred_loss: 0.4966 - accuracy: 0.6811 - val_loss: 0.6146 - val_recon_loss: 0.8649 - val_kl_loss: 0.0684 - val_pred_loss: 0.6146 - val_accuracy: 0.6316\n",
      "Epoch 22/30\n",
      "4/4 [==============================] - 0s 22ms/step - loss: 0.5763 - recon_loss: 1.4797 - kl_loss: 0.1071 - pred_loss: 0.5785 - accuracy: 0.7192 - val_loss: 0.4917 - val_recon_loss: 0.8208 - val_kl_loss: 0.0684 - val_pred_loss: 0.4917 - val_accuracy: 0.6667\n",
      "Epoch 23/30\n",
      "4/4 [==============================] - 0s 22ms/step - loss: 0.6385 - recon_loss: 0.7378 - kl_loss: 0.0664 - pred_loss: 0.6661 - accuracy: 0.6296 - val_loss: 0.6358 - val_recon_loss: 0.8537 - val_kl_loss: 0.0684 - val_pred_loss: 0.6358 - val_accuracy: 0.6257\n",
      "Epoch 24/30\n",
      "4/4 [==============================] - 0s 21ms/step - loss: 0.7018 - recon_loss: 0.6952 - kl_loss: 0.0558 - pred_loss: 0.8044 - accuracy: 0.6356 - val_loss: 0.6288 - val_recon_loss: 0.8871 - val_kl_loss: 0.0684 - val_pred_loss: 0.6288 - val_accuracy: 0.6608\n",
      "Epoch 25/30\n",
      "4/4 [==============================] - 0s 22ms/step - loss: 0.5905 - recon_loss: 1.2382 - kl_loss: 0.0717 - pred_loss: 0.5420 - accuracy: 0.6619 - val_loss: 0.6039 - val_recon_loss: 0.8294 - val_kl_loss: 0.0684 - val_pred_loss: 0.6039 - val_accuracy: 0.6257\n",
      "Epoch 26/30\n",
      "4/4 [==============================] - 0s 27ms/step - loss: 0.5755 - recon_loss: 0.7308 - kl_loss: 0.0634 - pred_loss: 0.5508 - accuracy: 0.7054 - val_loss: 0.5995 - val_recon_loss: 0.8500 - val_kl_loss: 0.0684 - val_pred_loss: 0.5995 - val_accuracy: 0.5848\n",
      "Epoch 27/30\n",
      "4/4 [==============================] - 0s 21ms/step - loss: 0.5508 - recon_loss: 0.7768 - kl_loss: 0.0584 - pred_loss: 0.5040 - accuracy: 0.6942 - val_loss: 0.5562 - val_recon_loss: 0.8513 - val_kl_loss: 0.0684 - val_pred_loss: 0.5562 - val_accuracy: 0.6725\n",
      "Epoch 28/30\n",
      "4/4 [==============================] - 0s 25ms/step - loss: 0.5281 - recon_loss: 1.0409 - kl_loss: 0.0871 - pred_loss: 0.4305 - accuracy: 0.6864 - val_loss: 0.5641 - val_recon_loss: 0.8486 - val_kl_loss: 0.0684 - val_pred_loss: 0.5641 - val_accuracy: 0.6842\n",
      "Epoch 29/30\n",
      "4/4 [==============================] - 0s 22ms/step - loss: 0.4918 - recon_loss: 0.7126 - kl_loss: 0.0603 - pred_loss: 0.3604 - accuracy: 0.7072 - val_loss: 0.6130 - val_recon_loss: 0.8655 - val_kl_loss: 0.0684 - val_pred_loss: 0.6130 - val_accuracy: 0.6842\n",
      "Epoch 30/30\n",
      "4/4 [==============================] - 0s 22ms/step - loss: 0.6865 - recon_loss: 1.0549 - kl_loss: 0.0637 - pred_loss: 0.8618 - accuracy: 0.6718 - val_loss: 0.4936 - val_recon_loss: 0.8383 - val_kl_loss: 0.0684 - val_pred_loss: 0.4936 - val_accuracy: 0.6082\n"
     ]
    }
   ],
   "source": [
    "vaec = VAEC(config=config, \n",
    "            x_train=x_train, y_train=y_train, x_test=x_test, y_test=y_test, \n",
    "            log_mark='LD08_fit_all_ae_then_cl_head', summary=False)\n",
    "\n",
    "vaec.fit_all_parts(epochs=2000)\n",
    "vaec.fit_autoencoder(epochs=2000)\n",
    "vaec.fit_classifier_head(epochs=2000)"
   ]
  },
  {
   "cell_type": "markdown",
   "id": "f3acb7f0",
   "metadata": {},
   "source": [
    "# Test case #4\n",
    "\n",
    "In this test the full-mlp classifier built up form encoder+classifier_head is trained directly."
   ]
  },
  {
   "cell_type": "code",
   "execution_count": 7,
   "id": "0b72241b",
   "metadata": {
    "collapsed": true
   },
   "outputs": [
    {
     "name": "stdout",
     "output_type": "stream",
     "text": [
      "Epoch 1/10\n",
      "4/4 [==============================] - 1s 94ms/step - loss: 0.8092 - recon_loss: 1.8641 - kl_loss: 1.3089 - pred_loss: 0.7669 - accuracy: 0.3441 - val_loss: 0.7924 - val_recon_loss: 1.3993 - val_kl_loss: 0.8800 - val_pred_loss: 0.7924 - val_accuracy: 0.4327\n",
      "Epoch 2/10\n",
      "4/4 [==============================] - 0s 25ms/step - loss: 0.7821 - recon_loss: 1.2782 - kl_loss: 0.5572 - pred_loss: 0.8135 - accuracy: 0.3995 - val_loss: 0.6912 - val_recon_loss: 1.4653 - val_kl_loss: 0.8393 - val_pred_loss: 0.6912 - val_accuracy: 0.5439\n",
      "Epoch 3/10\n",
      "4/4 [==============================] - 0s 27ms/step - loss: 0.6964 - recon_loss: 1.6518 - kl_loss: 0.7249 - pred_loss: 0.6871 - accuracy: 0.5495 - val_loss: 0.6709 - val_recon_loss: 1.4791 - val_kl_loss: 0.8283 - val_pred_loss: 0.6709 - val_accuracy: 0.5906\n",
      "Epoch 4/10\n",
      "4/4 [==============================] - 0s 23ms/step - loss: 0.6711 - recon_loss: 1.9866 - kl_loss: 0.9012 - pred_loss: 0.7032 - accuracy: 0.6038 - val_loss: 0.6500 - val_recon_loss: 1.3864 - val_kl_loss: 0.8388 - val_pred_loss: 0.6500 - val_accuracy: 0.5906\n",
      "Epoch 5/10\n",
      "4/4 [==============================] - 0s 27ms/step - loss: 0.6436 - recon_loss: 1.8630 - kl_loss: 1.1459 - pred_loss: 0.6334 - accuracy: 0.6057 - val_loss: 0.5918 - val_recon_loss: 1.5437 - val_kl_loss: 0.8607 - val_pred_loss: 0.5918 - val_accuracy: 0.6725\n",
      "Epoch 6/10\n",
      "4/4 [==============================] - 0s 25ms/step - loss: 0.5980 - recon_loss: 1.4364 - kl_loss: 1.0602 - pred_loss: 0.6029 - accuracy: 0.7094 - val_loss: 0.5838 - val_recon_loss: 1.5757 - val_kl_loss: 0.8933 - val_pred_loss: 0.5838 - val_accuracy: 0.6667\n",
      "Epoch 7/10\n",
      "4/4 [==============================] - 0s 26ms/step - loss: 0.5743 - recon_loss: 1.6641 - kl_loss: 1.0649 - pred_loss: 0.5986 - accuracy: 0.7376 - val_loss: 0.5180 - val_recon_loss: 1.6395 - val_kl_loss: 0.9273 - val_pred_loss: 0.5180 - val_accuracy: 0.7719\n",
      "Epoch 8/10\n",
      "4/4 [==============================] - 0s 21ms/step - loss: 0.4887 - recon_loss: 1.8826 - kl_loss: 1.1982 - pred_loss: 0.4228 - accuracy: 0.7836 - val_loss: 0.4850 - val_recon_loss: 1.8374 - val_kl_loss: 0.9771 - val_pred_loss: 0.4850 - val_accuracy: 0.8421\n",
      "Epoch 9/10\n",
      "4/4 [==============================] - 0s 27ms/step - loss: 0.4999 - recon_loss: 1.6424 - kl_loss: 0.8136 - pred_loss: 0.5054 - accuracy: 0.7843 - val_loss: 0.4762 - val_recon_loss: 1.6039 - val_kl_loss: 1.0462 - val_pred_loss: 0.4762 - val_accuracy: 0.8129\n",
      "Epoch 10/10\n",
      "4/4 [==============================] - 0s 24ms/step - loss: 0.4492 - recon_loss: 1.9250 - kl_loss: 1.9650 - pred_loss: 0.4444 - accuracy: 0.8572 - val_loss: 0.4523 - val_recon_loss: 1.7589 - val_kl_loss: 1.1358 - val_pred_loss: 0.4523 - val_accuracy: 0.8304\n"
     ]
    }
   ],
   "source": [
    "vaec = VAEC(config=config, \n",
    "            x_train=x_train, y_train=y_train, x_test=x_test, y_test=y_test, \n",
    "            log_mark='LD08_fit_mlp_classifier', summary=False)\n",
    "\n",
    "vaec.fit_mlp_classifier(epochs=2000)"
   ]
  },
  {
   "cell_type": "code",
   "execution_count": 8,
   "id": "3f87d95e-2208-46ab-9fa3-1b7f13559dd4",
   "metadata": {},
   "outputs": [
    {
     "data": {
      "text/plain": [
       "Reusing TensorBoard on port 6006 (pid 15432), started 5:14:43 ago. (Use '!kill 15432' to kill it.)"
      ]
     },
     "metadata": {},
     "output_type": "display_data"
    },
    {
     "data": {
      "text/html": [
       "\n",
       "      <iframe id=\"tensorboard-frame-db6d4fa0f708008c\" width=\"100%\" height=\"800\" frameborder=\"0\">\n",
       "      </iframe>\n",
       "      <script>\n",
       "        (function() {\n",
       "          const frame = document.getElementById(\"tensorboard-frame-db6d4fa0f708008c\");\n",
       "          const url = new URL(\"/\", window.location);\n",
       "          const port = 6006;\n",
       "          if (port) {\n",
       "            url.port = port;\n",
       "          }\n",
       "          frame.src = url;\n",
       "        })();\n",
       "      </script>\n",
       "    "
      ],
      "text/plain": [
       "<IPython.core.display.HTML object>"
      ]
     },
     "metadata": {},
     "output_type": "display_data"
    }
   ],
   "source": [
    "%tensorboard --logdir logs"
   ]
  }
 ],
 "metadata": {
  "kernelspec": {
   "display_name": "Python 3 (ipykernel)",
   "language": "python",
   "name": "python3"
  },
  "language_info": {
   "codemirror_mode": {
    "name": "ipython",
    "version": 3
   },
   "file_extension": ".py",
   "mimetype": "text/x-python",
   "name": "python",
   "nbconvert_exporter": "python",
   "pygments_lexer": "ipython3",
   "version": "3.9.16"
  }
 },
 "nbformat": 4,
 "nbformat_minor": 5
}
